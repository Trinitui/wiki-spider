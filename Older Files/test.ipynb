{
 "cells": [
  {
   "cell_type": "code",
   "execution_count": 27,
   "metadata": {},
   "outputs": [],
   "source": [
    "from bs4 import BeautifulSoup\n",
    "import requests\n",
    "\n",
    "URL= \"https://www.halopedia.org/Atriox\"\n",
    "page = requests.get(URL)\n",
    "#print(page.text)\n",
    "\n",
    "soup = BeautifulSoup(page.content, \"html.parser\")\n",
    "results = soup.find(\"table\",{\"class\":\"infobox\"})\n",
    "\n",
    "title_element = results.find(\"th\")\n",
    "homeworld_search = results.find_all(\"a\")\n",
    "affiliation_search = results.find_all(\"li\")\n",
    "gender_search = results.find_all(\"p\")\n",
    "\n",
    "name = results.find(\"th\")\n",
    "homeworld = homeworld_search[1]\n",
    "affiliations = affiliation_search[:2]\n",
    "gender = gender_search[7]\n",
    "species = gender_search[5]"
   ]
  },
  {
   "cell_type": "code",
   "execution_count": 30,
   "metadata": {},
   "outputs": [
    {
     "name": "stdout",
     "output_type": "stream",
     "text": [
      "Jiralhanae Male ['Covenant', 'Banished'] Doisac Atriox\n"
     ]
    }
   ],
   "source": [
    "def fix_name_data(name_data):\n",
    "    name_data = str(name_data).split(\">\")\n",
    "    name_data = name_data[1].split(\"\\n\")\n",
    "    name_data = name_data[0]\n",
    "    return name_data\n",
    "\n",
    "\n",
    "def fix_homeworldAndGender_data(home):\n",
    "    home = str(home).split(\">\")\n",
    "    home = home[1].split(\"<\")\n",
    "    home = home[0]\n",
    "    return home\n",
    "\n",
    "\n",
    "def fix_affiliations_data(aff):\n",
    "    res_list = []\n",
    "    for af in aff:\n",
    "        af = str(af).split(\">\")\n",
    "        af = af[2].split(\"<\")\n",
    "        af = af[0]\n",
    "        res_list.append(af)\n",
    "    return res_list  \n",
    "\n",
    "\n",
    "def fix_species_data(species):\n",
    "    species = str(species).split(\"/\")\n",
    "    species = species[1].split('\"')\n",
    "    return species[0]\n",
    "\n",
    "\n",
    "nd = str(fix_name_data(name))\n",
    "sd = str(fix_species_data(species))\n",
    "hd = str(fix_homeworldAndGender_data(homeworld))\n",
    "gd = str(fix_homeworldAndGender_data(gender))\n",
    "ad = str(fix_affiliations_data(affiliations)[0] + \", \" + fix_affiliations_data(affiliations)[1])"
   ]
  },
  {
   "cell_type": "code",
   "execution_count": 4,
   "metadata": {},
   "outputs": [
    {
     "data": {
      "text/plain": [
       "<sqlite3.Cursor at 0x7fda10ba5340>"
      ]
     },
     "execution_count": 4,
     "metadata": {},
     "output_type": "execute_result"
    }
   ],
   "source": [
    "import sqlite3\n",
    "\n",
    "conn = sqlite3.connect(\"HaloData.db\")\n",
    "c = conn.cursor()\n",
    "\n",
    "#c.execute(\"\"\"CREATE TABLE halo_db_2 (\n",
    "#    name           text,\n",
    "#    categories     blob,\n",
    "#    length         int\n",
    "#)\"\"\")\n",
    "#c.commit()\n",
    "\n",
    "c.execute(\"\"\" ALTER TABLE halo_db_2\\\n",
    "            ADD    category    text;\n",
    "\n",
    "\"\"\")\n",
    "\n",
    "#c.execute(\"INSERT INTO halo VALUES(?,?,?,?,?)\",(nd,sd,hd,gd,ad))\n",
    "#conn.commit()"
   ]
  },
  {
   "cell_type": "code",
   "execution_count": 9,
   "metadata": {},
   "outputs": [],
   "source": [
    "#c.execute(\"SELECT category FROM halo_db_2\")\n",
    "\n",
    "#c.execute('DELETE FROM halo_db_2')\n",
    "#conn.commit()\n",
    "\n",
    "#c.execute(\"SELECT DISTINCT * from halo_db_2\")\n",
    "#c.fetchall()\n"
   ]
  },
  {
   "cell_type": "code",
   "execution_count": null,
   "metadata": {},
   "outputs": [],
   "source": []
  }
 ],
 "metadata": {
  "interpreter": {
   "hash": "aee8b7b246df8f9039afb4144a1f6fd8d2ca17a180786b69acc140d282b71a49"
  },
  "kernelspec": {
   "display_name": "Python 3.9.7 64-bit",
   "language": "python",
   "name": "python3"
  },
  "language_info": {
   "codemirror_mode": {
    "name": "ipython",
    "version": 3
   },
   "file_extension": ".py",
   "mimetype": "text/x-python",
   "name": "python",
   "nbconvert_exporter": "python",
   "pygments_lexer": "ipython3",
   "version": "3.9.7"
  },
  "orig_nbformat": 4
 },
 "nbformat": 4,
 "nbformat_minor": 2
}
