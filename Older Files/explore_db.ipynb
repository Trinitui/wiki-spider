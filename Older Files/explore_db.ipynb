{
 "cells": [
  {
   "cell_type": "code",
   "execution_count": 22,
   "metadata": {},
   "outputs": [
    {
     "data": {
      "text/html": [
       "<div>\n",
       "<style scoped>\n",
       "    .dataframe tbody tr th:only-of-type {\n",
       "        vertical-align: middle;\n",
       "    }\n",
       "\n",
       "    .dataframe tbody tr th {\n",
       "        vertical-align: top;\n",
       "    }\n",
       "\n",
       "    .dataframe thead th {\n",
       "        text-align: right;\n",
       "    }\n",
       "</style>\n",
       "<table border=\"1\" class=\"dataframe\">\n",
       "  <thead>\n",
       "    <tr style=\"text-align: right;\">\n",
       "      <th></th>\n",
       "      <th>name</th>\n",
       "      <th>species</th>\n",
       "      <th>homeworld</th>\n",
       "      <th>gender</th>\n",
       "      <th>affiliations</th>\n",
       "    </tr>\n",
       "  </thead>\n",
       "  <tbody>\n",
       "    <tr>\n",
       "      <th>15</th>\n",
       "      <td>AV-30 Light Assault VTOL</td>\n",
       "      <td>b&gt;\\n&lt;</td>\n",
       "      <td>Misriah Armory</td>\n",
       "      <td></td>\n",
       "      <td>GAU-10/A heavy autocannons, M302 rocket pods</td>\n",
       "    </tr>\n",
       "    <tr>\n",
       "      <th>76</th>\n",
       "      <td>Arctic Warthog</td>\n",
       "      <td>M12_Warthog</td>\n",
       "      <td>AMG Transport Dynamics</td>\n",
       "      <td></td>\n",
       "      <td>,</td>\n",
       "    </tr>\n",
       "    <tr>\n",
       "      <th>14</th>\n",
       "      <td>Armored Warthog</td>\n",
       "      <td>M12B_Warthog</td>\n",
       "      <td>AMG Transport Dynamics</td>\n",
       "      <td></td>\n",
       "      <td>, Gunner (1)</td>\n",
       "    </tr>\n",
       "    <tr>\n",
       "      <th>0</th>\n",
       "      <td>Atriox</td>\n",
       "      <td>Jiralhanae</td>\n",
       "      <td>Doisac</td>\n",
       "      <td>Male</td>\n",
       "      <td>Covenant, Banished</td>\n",
       "    </tr>\n",
       "    <tr>\n",
       "      <th>17</th>\n",
       "      <td>Bison</td>\n",
       "      <td>b&gt;\\n&lt;</td>\n",
       "      <td>Serina</td>\n",
       "      <td></td>\n",
       "      <td>Insurrection, Human-Covenant War</td>\n",
       "    </tr>\n",
       "  </tbody>\n",
       "</table>\n",
       "</div>"
      ],
      "text/plain": [
       "                        name       species               homeworld gender  \\\n",
       "15  AV-30 Light Assault VTOL         b>\\n<          Misriah Armory          \n",
       "76            Arctic Warthog   M12_Warthog  AMG Transport Dynamics          \n",
       "14           Armored Warthog  M12B_Warthog  AMG Transport Dynamics          \n",
       "0                     Atriox    Jiralhanae                  Doisac   Male   \n",
       "17                     Bison         b>\\n<                  Serina          \n",
       "\n",
       "                                    affiliations  \n",
       "15  GAU-10/A heavy autocannons, M302 rocket pods  \n",
       "76                                            ,   \n",
       "14                                  , Gunner (1)  \n",
       "0                             Covenant, Banished  \n",
       "17              Insurrection, Human-Covenant War  "
      ]
     },
     "execution_count": 22,
     "metadata": {},
     "output_type": "execute_result"
    }
   ],
   "source": [
    "import pandas as pd\n",
    "import sqlite3\n",
    "\n",
    "\n",
    "conn = sqlite3.connect(\"HaloData.db\")\n",
    "c = conn.cursor()\n",
    "halodb = pd.read_sql_query(\"SELECT DISTINCT * FROM halo\",sqlite3.connect(\"HaloData.db\"))\n",
    "\n",
    "\n",
    "halodb.sort_values(by = \"name\").head()"
   ]
  },
  {
   "cell_type": "code",
   "execution_count": 20,
   "metadata": {},
   "outputs": [
    {
     "data": {
      "text/plain": [
       "False    212\n",
       "True       5\n",
       "Name: gender, dtype: int64"
      ]
     },
     "execution_count": 20,
     "metadata": {},
     "output_type": "execute_result"
    }
   ],
   "source": [
    "halodb[\"gender\"].str.contains(\"Male\").value_counts()"
   ]
  },
  {
   "cell_type": "code",
   "execution_count": 25,
   "metadata": {},
   "outputs": [
    {
     "data": {
      "text/plain": [
       "False    216\n",
       "True       1\n",
       "Name: gender, dtype: int64"
      ]
     },
     "execution_count": 25,
     "metadata": {},
     "output_type": "execute_result"
    }
   ],
   "source": [
    "halodb[\"gender\"].str.contains(\"Female\").value_counts()"
   ]
  },
  {
   "cell_type": "code",
   "execution_count": 26,
   "metadata": {},
   "outputs": [],
   "source": [
    "c.close()"
   ]
  },
  {
   "cell_type": "code",
   "execution_count": null,
   "metadata": {},
   "outputs": [],
   "source": []
  }
 ],
 "metadata": {
  "interpreter": {
   "hash": "aee8b7b246df8f9039afb4144a1f6fd8d2ca17a180786b69acc140d282b71a49"
  },
  "kernelspec": {
   "display_name": "Python 3.9.7 64-bit",
   "language": "python",
   "name": "python3"
  },
  "language_info": {
   "codemirror_mode": {
    "name": "ipython",
    "version": 3
   },
   "file_extension": ".py",
   "mimetype": "text/x-python",
   "name": "python",
   "nbconvert_exporter": "python",
   "pygments_lexer": "ipython3",
   "version": "3.9.7"
  },
  "orig_nbformat": 4
 },
 "nbformat": 4,
 "nbformat_minor": 2
}
