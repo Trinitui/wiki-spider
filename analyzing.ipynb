{
 "cells": [
  {
   "cell_type": "code",
   "execution_count": 4,
   "metadata": {},
   "outputs": [],
   "source": [
    "import pandas as pd\n",
    "import sqlite3\n",
    "\n",
    "conn = sqlite3.connect(\"HaloData.db\")\n",
    "c = conn.cursor()\n",
    "c.execute(\"SELECT DISTINCT * FROM halo_db_2\")\n",
    "z = c.fetchall()\n",
    "\n",
    "halodf = pd.DataFrame(z,columns = [\"Name\",\"Categories\",\"length of page\",\"category\"])"
   ]
  },
  {
   "cell_type": "code",
   "execution_count": 5,
   "metadata": {},
   "outputs": [
    {
     "name": "stdout",
     "output_type": "stream",
     "text": [
      "(21, 4) (7, 4)\n"
     ]
    }
   ],
   "source": [
    "#halodf_drop_empties = halodf[halodf[\"Categories\"] == \"[]\"].drop(axis = 0)\n",
    "halodf_dropped = halodf.drop(halodf[halodf[\"Categories\"] == \"[]\"].index,axis = 0)\n",
    "print(halodf.shape,halodf_dropped.shape)"
   ]
  },
  {
   "cell_type": "code",
   "execution_count": 10,
   "metadata": {},
   "outputs": [
    {
     "data": {
      "text/html": [
       "<div>\n",
       "<style scoped>\n",
       "    .dataframe tbody tr th:only-of-type {\n",
       "        vertical-align: middle;\n",
       "    }\n",
       "\n",
       "    .dataframe tbody tr th {\n",
       "        vertical-align: top;\n",
       "    }\n",
       "\n",
       "    .dataframe thead th {\n",
       "        text-align: right;\n",
       "    }\n",
       "</style>\n",
       "<table border=\"1\" class=\"dataframe\">\n",
       "  <thead>\n",
       "    <tr style=\"text-align: right;\">\n",
       "      <th></th>\n",
       "      <th>Name</th>\n",
       "      <th>Categories</th>\n",
       "      <th>length of page</th>\n",
       "      <th>category</th>\n",
       "    </tr>\n",
       "  </thead>\n",
       "  <tbody>\n",
       "  </tbody>\n",
       "</table>\n",
       "</div>"
      ],
      "text/plain": [
       "Empty DataFrame\n",
       "Columns: [Name, Categories, length of page, category]\n",
       "Index: []"
      ]
     },
     "execution_count": 10,
     "metadata": {},
     "output_type": "execute_result"
    }
   ],
   "source": [
    "halodf_dropped[halodf_dropped[\"category\"] != \"tester\"]\n"
   ]
  },
  {
   "cell_type": "code",
   "execution_count": 7,
   "metadata": {},
   "outputs": [
    {
     "data": {
      "text/html": [
       "<div>\n",
       "<style scoped>\n",
       "    .dataframe tbody tr th:only-of-type {\n",
       "        vertical-align: middle;\n",
       "    }\n",
       "\n",
       "    .dataframe tbody tr th {\n",
       "        vertical-align: top;\n",
       "    }\n",
       "\n",
       "    .dataframe thead th {\n",
       "        text-align: right;\n",
       "    }\n",
       "</style>\n",
       "<table border=\"1\" class=\"dataframe\">\n",
       "  <thead>\n",
       "    <tr style=\"text-align: right;\">\n",
       "      <th></th>\n",
       "      <th>Name</th>\n",
       "      <th>Categories</th>\n",
       "      <th>length of page</th>\n",
       "      <th>category</th>\n",
       "    </tr>\n",
       "  </thead>\n",
       "  <tbody>\n",
       "    <tr>\n",
       "      <th>8</th>\n",
       "      <td></td>\n",
       "      <td>['Halo:_Combat_Evolved_Anniversary', 'Skulls']</td>\n",
       "      <td>10037024</td>\n",
       "      <td>tester</td>\n",
       "    </tr>\n",
       "    <tr>\n",
       "      <th>4</th>\n",
       "      <td>Halopedia:Article Improvement Drive</td>\n",
       "      <td>['Halopedia']</td>\n",
       "      <td>9183223</td>\n",
       "      <td>tester</td>\n",
       "    </tr>\n",
       "    <tr>\n",
       "      <th>20</th>\n",
       "      <td>Category:Articles with incomplete sections</td>\n",
       "      <td>['Meta_categories', 'Marked_articles']</td>\n",
       "      <td>5896128</td>\n",
       "      <td>tester</td>\n",
       "    </tr>\n",
       "    <tr>\n",
       "      <th>16</th>\n",
       "      <td>File:HCE RingSurface Concept 10.jpg</td>\n",
       "      <td>['Fair_use_art', 'Halo:_Combat_Evolved_concept...</td>\n",
       "      <td>4398290</td>\n",
       "      <td>tester</td>\n",
       "    </tr>\n",
       "    <tr>\n",
       "      <th>0</th>\n",
       "      <td>File:HCEX Classics Cover Art.jpg</td>\n",
       "      <td>['Game_covers', 'Cover_art', 'Halo:_Combat_Evo...</td>\n",
       "      <td>3908526</td>\n",
       "      <td>tester</td>\n",
       "    </tr>\n",
       "    <tr>\n",
       "      <th>6</th>\n",
       "      <td>Category:Help</td>\n",
       "      <td>['Administration']</td>\n",
       "      <td>3790003</td>\n",
       "      <td>tester</td>\n",
       "    </tr>\n",
       "    <tr>\n",
       "      <th>12</th>\n",
       "      <td>Category:Game demos</td>\n",
       "      <td>['Video_games']</td>\n",
       "      <td>3379891</td>\n",
       "      <td>tester</td>\n",
       "    </tr>\n",
       "  </tbody>\n",
       "</table>\n",
       "</div>"
      ],
      "text/plain": [
       "                                          Name  \\\n",
       "8                                                \n",
       "4          Halopedia:Article Improvement Drive   \n",
       "20  Category:Articles with incomplete sections   \n",
       "16         File:HCE RingSurface Concept 10.jpg   \n",
       "0             File:HCEX Classics Cover Art.jpg   \n",
       "6                                Category:Help   \n",
       "12                         Category:Game demos   \n",
       "\n",
       "                                           Categories  length of page category  \n",
       "8      ['Halo:_Combat_Evolved_Anniversary', 'Skulls']        10037024   tester  \n",
       "4                                       ['Halopedia']         9183223   tester  \n",
       "20             ['Meta_categories', 'Marked_articles']         5896128   tester  \n",
       "16  ['Fair_use_art', 'Halo:_Combat_Evolved_concept...         4398290   tester  \n",
       "0   ['Game_covers', 'Cover_art', 'Halo:_Combat_Evo...         3908526   tester  \n",
       "6                                  ['Administration']         3790003   tester  \n",
       "12                                    ['Video_games']         3379891   tester  "
      ]
     },
     "execution_count": 7,
     "metadata": {},
     "output_type": "execute_result"
    }
   ],
   "source": [
    "halodf_dropped.sort_values(by = \"length of page\",ascending=False).tail(10)"
   ]
  },
  {
   "cell_type": "code",
   "execution_count": 28,
   "metadata": {},
   "outputs": [
    {
     "data": {
      "text/html": [
       "<div>\n",
       "<style scoped>\n",
       "    .dataframe tbody tr th:only-of-type {\n",
       "        vertical-align: middle;\n",
       "    }\n",
       "\n",
       "    .dataframe tbody tr th {\n",
       "        vertical-align: top;\n",
       "    }\n",
       "\n",
       "    .dataframe thead th {\n",
       "        text-align: right;\n",
       "    }\n",
       "</style>\n",
       "<table border=\"1\" class=\"dataframe\">\n",
       "  <thead>\n",
       "    <tr style=\"text-align: right;\">\n",
       "      <th></th>\n",
       "      <th>Name</th>\n",
       "      <th>Categories</th>\n",
       "      <th>length of page</th>\n",
       "    </tr>\n",
       "  </thead>\n",
       "  <tbody>\n",
       "    <tr>\n",
       "      <th>78</th>\n",
       "      <td>Category:Covenant vehicles</td>\n",
       "      <td>['Covenant_technology', 'Vehicles']</td>\n",
       "      <td>4494311</td>\n",
       "    </tr>\n",
       "    <tr>\n",
       "      <th>964</th>\n",
       "      <td>Category:UNSC vehicles</td>\n",
       "      <td>['UNSC_Armed_Forces', 'Vehicles']</td>\n",
       "      <td>4417062</td>\n",
       "    </tr>\n",
       "    <tr>\n",
       "      <th>11953</th>\n",
       "      <td>Category:Ships</td>\n",
       "      <td>['Vehicles']</td>\n",
       "      <td>4075598</td>\n",
       "    </tr>\n",
       "  </tbody>\n",
       "</table>\n",
       "</div>"
      ],
      "text/plain": [
       "                             Name                           Categories  \\\n",
       "78     Category:Covenant vehicles  ['Covenant_technology', 'Vehicles']   \n",
       "964        Category:UNSC vehicles    ['UNSC_Armed_Forces', 'Vehicles']   \n",
       "11953              Category:Ships                         ['Vehicles']   \n",
       "\n",
       "       length of page  \n",
       "78            4494311  \n",
       "964           4417062  \n",
       "11953         4075598  "
      ]
     },
     "execution_count": 28,
     "metadata": {},
     "output_type": "execute_result"
    }
   ],
   "source": [
    "halovehicles = halodf_dropped[halodf_dropped[\"Categories\"].str.contains(\"Vehicles\")]\n",
    "halovehicles.sort_values(by = \"length of page\",ascending=False).head(10)"
   ]
  },
  {
   "cell_type": "code",
   "execution_count": 29,
   "metadata": {},
   "outputs": [
    {
     "name": "stdout",
     "output_type": "stream",
     "text": [
      "Human characters:  1\n",
      "Alien characters:  165\n"
     ]
    }
   ],
   "source": [
    "humanchars = halodf_dropped[halodf_dropped[\"Categories\"].str.contains(\"Human_characters\")]\n",
    "print(\"Human characters: \",len(humanchars))\n",
    "\n",
    "alienchars = halodf_dropped[halodf_dropped[\"Categories\"].str.contains(\"Sangheili\")]\n",
    "print(\"Alien characters: \",len(alienchars))"
   ]
  },
  {
   "cell_type": "code",
   "execution_count": null,
   "metadata": {},
   "outputs": [],
   "source": []
  }
 ],
 "metadata": {
  "interpreter": {
   "hash": "aee8b7b246df8f9039afb4144a1f6fd8d2ca17a180786b69acc140d282b71a49"
  },
  "kernelspec": {
   "display_name": "Python 3.9.7 64-bit",
   "language": "python",
   "name": "python3"
  },
  "language_info": {
   "codemirror_mode": {
    "name": "ipython",
    "version": 3
   },
   "file_extension": ".py",
   "mimetype": "text/x-python",
   "name": "python",
   "nbconvert_exporter": "python",
   "pygments_lexer": "ipython3",
   "version": "3.9.7"
  },
  "orig_nbformat": 4
 },
 "nbformat": 4,
 "nbformat_minor": 2
}
